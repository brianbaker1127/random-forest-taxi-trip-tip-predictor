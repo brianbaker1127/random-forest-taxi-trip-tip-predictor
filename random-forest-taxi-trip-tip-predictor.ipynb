{
 "cells": [
  {
   "cell_type": "markdown",
   "metadata": {},
   "source": [
    "### data preparation and issue resolution:\n",
    "#### 1. pickup and drop off times might not make any sense - e.g. a trip where no time has elapsed but was 10 miles. RESOLVE: This issue may be resolved by ignoring data in the model where the dropoff time is equal to the pickup time.\n",
    "#### 2. Pickup and dropoff times are given as a date and a military time. However, it would better if we ignored the date and just analyzed the time (and assume the day of the month is not an important feature...i.e. why would March 4th be more important than March 24th?). RESOLVE: Clean data by replacing pickup and drop off columns by the following two columns: a. total elapsed ride time in minutes b. pickup time of day by the hour. This is to see if there is a time of day relationship, and it is probably unnecessary to distinguish data by _the minute and second_.\n",
    "#### 3. remove redundancies: including the total amount in the model is unnecessary since it is just the sum of the fare amount + taxes + tip\n",
    "#### 4. incorporate time-of-year feature: It might be a good idea to establish how tip amounts depend on how cold it is outside - perhaps if it is November and below freezing out, riders may be more inclined to tip less since they are in a rush to get warm. RESOLVE: randomly mix data from March, June, and November tables and create an additional categorical feature that distinguishes the month\n",
    "#### 5. We don't need to use all $\\mathcal{O}(\\text{10}^7)$ trips to build a model, so we will just fetch a tiny fraction of it - perhaps $\\mathcal{O}(\\text{10}^4)$ instead\n",
    "#### 6. include only credit card data, since tip data is not recorded for cash transactions"
   ]
  },
  {
   "cell_type": "markdown",
   "metadata": {},
   "source": [
    "# Load Data"
   ]
  },
  {
   "cell_type": "code",
   "execution_count": 260,
   "metadata": {},
   "outputs": [
    {
     "name": "stdout",
     "output_type": "stream",
     "text": [
      "read time: 16.25940203666687 seconds\n"
     ]
    }
   ],
   "source": [
    "import pandas as pd\n",
    "import random\n",
    "import time\n",
    "\n",
    "\"\"\" The csv files are way too large to use for training, but not quite large enough to go to the cloud. \n",
    "    So here, we simply read a small random sample from the files for March, June, and November into separate dataframes.\n",
    "    These samples will each have a random size. The sample has to be random, because we can't just select the \n",
    "    first few rows because the data is ordered by pick up date & time, which would add model bias.\"\"\"\n",
    "\n",
    "\"\"\" 'sample_probability' indicates the probability that a particular row in the csv file will be sampled\"\"\"\n",
    "sample_probability = 0.0005\n",
    "\n",
    "MARCH_PATH = \"yellow_tripdata_2017-03.csv\"\n",
    "JUNE_PATH = \"yellow_tripdata_2017-06.csv\"\n",
    "NOVEMBER_PATH = \"yellow_tripdata_2017-11.csv\"\n",
    "\n",
    "start = time.time()\n",
    "\n",
    "march_df = pd.read_csv(MARCH_PATH, skiprows=lambda i: i>0 and random.random()>sample_probability)\n",
    "june_df = pd.read_csv(JUNE_PATH, skiprows=lambda i: i>0 and random.random()>sample_probability)\n",
    "november_df = pd.read_csv(NOVEMBER_PATH, skiprows=lambda i: i>0 and random.random()>sample_probability)\n",
    "\n",
    "end = time.time()\n",
    "print(\"read time: {} seconds\".format(end - start))"
   ]
  },
  {
   "cell_type": "markdown",
   "metadata": {},
   "source": [
    "# Prepare and Clean Data "
   ]
  },
  {
   "cell_type": "code",
   "execution_count": 261,
   "metadata": {},
   "outputs": [
    {
     "data": {
      "text/html": [
       "<div>\n",
       "<style scoped>\n",
       "    .dataframe tbody tr th:only-of-type {\n",
       "        vertical-align: middle;\n",
       "    }\n",
       "\n",
       "    .dataframe tbody tr th {\n",
       "        vertical-align: top;\n",
       "    }\n",
       "\n",
       "    .dataframe thead th {\n",
       "        text-align: right;\n",
       "    }\n",
       "</style>\n",
       "<table border=\"1\" class=\"dataframe\">\n",
       "  <thead>\n",
       "    <tr style=\"text-align: right;\">\n",
       "      <th></th>\n",
       "      <th>VendorID</th>\n",
       "      <th>tpep_pickup_datetime</th>\n",
       "      <th>tpep_dropoff_datetime</th>\n",
       "      <th>passenger_count</th>\n",
       "      <th>trip_distance</th>\n",
       "      <th>RatecodeID</th>\n",
       "      <th>store_and_fwd_flag</th>\n",
       "      <th>PULocationID</th>\n",
       "      <th>DOLocationID</th>\n",
       "      <th>payment_type</th>\n",
       "      <th>fare_amount</th>\n",
       "      <th>extra</th>\n",
       "      <th>mta_tax</th>\n",
       "      <th>tip_amount</th>\n",
       "      <th>tolls_amount</th>\n",
       "      <th>improvement_surcharge</th>\n",
       "      <th>total_amount</th>\n",
       "      <th>month</th>\n",
       "      <th>trip duration</th>\n",
       "      <th>hour of day</th>\n",
       "    </tr>\n",
       "  </thead>\n",
       "  <tbody>\n",
       "    <tr>\n",
       "      <th>0</th>\n",
       "      <td>2</td>\n",
       "      <td>2017-03-10 14:20:45</td>\n",
       "      <td>2017-03-10 14:26:56</td>\n",
       "      <td>1</td>\n",
       "      <td>1.60</td>\n",
       "      <td>1</td>\n",
       "      <td>N</td>\n",
       "      <td>68</td>\n",
       "      <td>249</td>\n",
       "      <td>1</td>\n",
       "      <td>7.0</td>\n",
       "      <td>0.0</td>\n",
       "      <td>0.5</td>\n",
       "      <td>1.00</td>\n",
       "      <td>0.0</td>\n",
       "      <td>0.3</td>\n",
       "      <td>8.80</td>\n",
       "      <td>March</td>\n",
       "      <td>6</td>\n",
       "      <td>14</td>\n",
       "    </tr>\n",
       "    <tr>\n",
       "      <th>1</th>\n",
       "      <td>1</td>\n",
       "      <td>2017-03-10 14:30:39</td>\n",
       "      <td>2017-03-10 14:57:11</td>\n",
       "      <td>3</td>\n",
       "      <td>8.30</td>\n",
       "      <td>1</td>\n",
       "      <td>N</td>\n",
       "      <td>141</td>\n",
       "      <td>97</td>\n",
       "      <td>1</td>\n",
       "      <td>27.5</td>\n",
       "      <td>0.0</td>\n",
       "      <td>0.5</td>\n",
       "      <td>7.05</td>\n",
       "      <td>0.0</td>\n",
       "      <td>0.3</td>\n",
       "      <td>35.35</td>\n",
       "      <td>March</td>\n",
       "      <td>26</td>\n",
       "      <td>14</td>\n",
       "    </tr>\n",
       "    <tr>\n",
       "      <th>2</th>\n",
       "      <td>2</td>\n",
       "      <td>2017-03-10 14:31:37</td>\n",
       "      <td>2017-03-10 14:39:26</td>\n",
       "      <td>5</td>\n",
       "      <td>1.39</td>\n",
       "      <td>1</td>\n",
       "      <td>N</td>\n",
       "      <td>90</td>\n",
       "      <td>170</td>\n",
       "      <td>1</td>\n",
       "      <td>7.5</td>\n",
       "      <td>0.0</td>\n",
       "      <td>0.5</td>\n",
       "      <td>1.66</td>\n",
       "      <td>0.0</td>\n",
       "      <td>0.3</td>\n",
       "      <td>9.96</td>\n",
       "      <td>March</td>\n",
       "      <td>7</td>\n",
       "      <td>14</td>\n",
       "    </tr>\n",
       "    <tr>\n",
       "      <th>3</th>\n",
       "      <td>1</td>\n",
       "      <td>2017-03-10 14:44:11</td>\n",
       "      <td>2017-03-10 14:52:40</td>\n",
       "      <td>1</td>\n",
       "      <td>1.00</td>\n",
       "      <td>1</td>\n",
       "      <td>N</td>\n",
       "      <td>144</td>\n",
       "      <td>79</td>\n",
       "      <td>1</td>\n",
       "      <td>7.0</td>\n",
       "      <td>0.0</td>\n",
       "      <td>0.5</td>\n",
       "      <td>1.00</td>\n",
       "      <td>0.0</td>\n",
       "      <td>0.3</td>\n",
       "      <td>8.80</td>\n",
       "      <td>March</td>\n",
       "      <td>8</td>\n",
       "      <td>14</td>\n",
       "    </tr>\n",
       "    <tr>\n",
       "      <th>4</th>\n",
       "      <td>2</td>\n",
       "      <td>2017-03-10 14:54:17</td>\n",
       "      <td>2017-03-10 15:11:38</td>\n",
       "      <td>1</td>\n",
       "      <td>1.60</td>\n",
       "      <td>1</td>\n",
       "      <td>N</td>\n",
       "      <td>186</td>\n",
       "      <td>162</td>\n",
       "      <td>1</td>\n",
       "      <td>11.5</td>\n",
       "      <td>0.0</td>\n",
       "      <td>0.5</td>\n",
       "      <td>2.46</td>\n",
       "      <td>0.0</td>\n",
       "      <td>0.3</td>\n",
       "      <td>14.76</td>\n",
       "      <td>March</td>\n",
       "      <td>17</td>\n",
       "      <td>14</td>\n",
       "    </tr>\n",
       "    <tr>\n",
       "      <th>...</th>\n",
       "      <td>...</td>\n",
       "      <td>...</td>\n",
       "      <td>...</td>\n",
       "      <td>...</td>\n",
       "      <td>...</td>\n",
       "      <td>...</td>\n",
       "      <td>...</td>\n",
       "      <td>...</td>\n",
       "      <td>...</td>\n",
       "      <td>...</td>\n",
       "      <td>...</td>\n",
       "      <td>...</td>\n",
       "      <td>...</td>\n",
       "      <td>...</td>\n",
       "      <td>...</td>\n",
       "      <td>...</td>\n",
       "      <td>...</td>\n",
       "      <td>...</td>\n",
       "      <td>...</td>\n",
       "      <td>...</td>\n",
       "    </tr>\n",
       "    <tr>\n",
       "      <th>14553</th>\n",
       "      <td>1</td>\n",
       "      <td>2017-11-30 22:13:45</td>\n",
       "      <td>2017-11-30 22:19:13</td>\n",
       "      <td>4</td>\n",
       "      <td>0.80</td>\n",
       "      <td>1</td>\n",
       "      <td>N</td>\n",
       "      <td>237</td>\n",
       "      <td>142</td>\n",
       "      <td>1</td>\n",
       "      <td>6.0</td>\n",
       "      <td>0.5</td>\n",
       "      <td>0.5</td>\n",
       "      <td>1.45</td>\n",
       "      <td>0.0</td>\n",
       "      <td>0.3</td>\n",
       "      <td>8.75</td>\n",
       "      <td>November</td>\n",
       "      <td>5</td>\n",
       "      <td>22</td>\n",
       "    </tr>\n",
       "    <tr>\n",
       "      <th>14554</th>\n",
       "      <td>2</td>\n",
       "      <td>2017-11-30 22:51:17</td>\n",
       "      <td>2017-11-30 22:58:06</td>\n",
       "      <td>1</td>\n",
       "      <td>3.09</td>\n",
       "      <td>1</td>\n",
       "      <td>N</td>\n",
       "      <td>132</td>\n",
       "      <td>10</td>\n",
       "      <td>1</td>\n",
       "      <td>10.5</td>\n",
       "      <td>0.5</td>\n",
       "      <td>0.5</td>\n",
       "      <td>2.95</td>\n",
       "      <td>0.0</td>\n",
       "      <td>0.3</td>\n",
       "      <td>14.75</td>\n",
       "      <td>November</td>\n",
       "      <td>6</td>\n",
       "      <td>22</td>\n",
       "    </tr>\n",
       "    <tr>\n",
       "      <th>14556</th>\n",
       "      <td>2</td>\n",
       "      <td>2017-11-30 23:06:28</td>\n",
       "      <td>2017-11-30 23:47:18</td>\n",
       "      <td>1</td>\n",
       "      <td>7.57</td>\n",
       "      <td>1</td>\n",
       "      <td>N</td>\n",
       "      <td>230</td>\n",
       "      <td>65</td>\n",
       "      <td>1</td>\n",
       "      <td>30.0</td>\n",
       "      <td>0.5</td>\n",
       "      <td>0.5</td>\n",
       "      <td>6.26</td>\n",
       "      <td>0.0</td>\n",
       "      <td>0.3</td>\n",
       "      <td>37.56</td>\n",
       "      <td>November</td>\n",
       "      <td>40</td>\n",
       "      <td>23</td>\n",
       "    </tr>\n",
       "    <tr>\n",
       "      <th>14557</th>\n",
       "      <td>1</td>\n",
       "      <td>2017-11-30 23:55:03</td>\n",
       "      <td>2017-12-01 00:03:42</td>\n",
       "      <td>1</td>\n",
       "      <td>1.30</td>\n",
       "      <td>1</td>\n",
       "      <td>N</td>\n",
       "      <td>234</td>\n",
       "      <td>100</td>\n",
       "      <td>1</td>\n",
       "      <td>7.5</td>\n",
       "      <td>0.5</td>\n",
       "      <td>0.5</td>\n",
       "      <td>1.20</td>\n",
       "      <td>0.0</td>\n",
       "      <td>0.3</td>\n",
       "      <td>10.00</td>\n",
       "      <td>November</td>\n",
       "      <td>8</td>\n",
       "      <td>23</td>\n",
       "    </tr>\n",
       "    <tr>\n",
       "      <th>14558</th>\n",
       "      <td>1</td>\n",
       "      <td>2017-11-30 23:33:13</td>\n",
       "      <td>2017-11-30 23:50:44</td>\n",
       "      <td>1</td>\n",
       "      <td>4.80</td>\n",
       "      <td>1</td>\n",
       "      <td>N</td>\n",
       "      <td>145</td>\n",
       "      <td>49</td>\n",
       "      <td>1</td>\n",
       "      <td>17.0</td>\n",
       "      <td>0.5</td>\n",
       "      <td>0.5</td>\n",
       "      <td>4.55</td>\n",
       "      <td>0.0</td>\n",
       "      <td>0.3</td>\n",
       "      <td>22.85</td>\n",
       "      <td>November</td>\n",
       "      <td>17</td>\n",
       "      <td>23</td>\n",
       "    </tr>\n",
       "  </tbody>\n",
       "</table>\n",
       "<p>9910 rows × 20 columns</p>\n",
       "</div>"
      ],
      "text/plain": [
       "       VendorID tpep_pickup_datetime tpep_dropoff_datetime  passenger_count  \\\n",
       "0             2  2017-03-10 14:20:45   2017-03-10 14:26:56                1   \n",
       "1             1  2017-03-10 14:30:39   2017-03-10 14:57:11                3   \n",
       "2             2  2017-03-10 14:31:37   2017-03-10 14:39:26                5   \n",
       "3             1  2017-03-10 14:44:11   2017-03-10 14:52:40                1   \n",
       "4             2  2017-03-10 14:54:17   2017-03-10 15:11:38                1   \n",
       "...         ...                  ...                   ...              ...   \n",
       "14553         1  2017-11-30 22:13:45   2017-11-30 22:19:13                4   \n",
       "14554         2  2017-11-30 22:51:17   2017-11-30 22:58:06                1   \n",
       "14556         2  2017-11-30 23:06:28   2017-11-30 23:47:18                1   \n",
       "14557         1  2017-11-30 23:55:03   2017-12-01 00:03:42                1   \n",
       "14558         1  2017-11-30 23:33:13   2017-11-30 23:50:44                1   \n",
       "\n",
       "       trip_distance  RatecodeID store_and_fwd_flag  PULocationID  \\\n",
       "0               1.60           1                  N            68   \n",
       "1               8.30           1                  N           141   \n",
       "2               1.39           1                  N            90   \n",
       "3               1.00           1                  N           144   \n",
       "4               1.60           1                  N           186   \n",
       "...              ...         ...                ...           ...   \n",
       "14553           0.80           1                  N           237   \n",
       "14554           3.09           1                  N           132   \n",
       "14556           7.57           1                  N           230   \n",
       "14557           1.30           1                  N           234   \n",
       "14558           4.80           1                  N           145   \n",
       "\n",
       "       DOLocationID  payment_type  fare_amount  extra  mta_tax  tip_amount  \\\n",
       "0               249             1          7.0    0.0      0.5        1.00   \n",
       "1                97             1         27.5    0.0      0.5        7.05   \n",
       "2               170             1          7.5    0.0      0.5        1.66   \n",
       "3                79             1          7.0    0.0      0.5        1.00   \n",
       "4               162             1         11.5    0.0      0.5        2.46   \n",
       "...             ...           ...          ...    ...      ...         ...   \n",
       "14553           142             1          6.0    0.5      0.5        1.45   \n",
       "14554            10             1         10.5    0.5      0.5        2.95   \n",
       "14556            65             1         30.0    0.5      0.5        6.26   \n",
       "14557           100             1          7.5    0.5      0.5        1.20   \n",
       "14558            49             1         17.0    0.5      0.5        4.55   \n",
       "\n",
       "       tolls_amount  improvement_surcharge  total_amount     month  \\\n",
       "0               0.0                    0.3          8.80     March   \n",
       "1               0.0                    0.3         35.35     March   \n",
       "2               0.0                    0.3          9.96     March   \n",
       "3               0.0                    0.3          8.80     March   \n",
       "4               0.0                    0.3         14.76     March   \n",
       "...             ...                    ...           ...       ...   \n",
       "14553           0.0                    0.3          8.75  November   \n",
       "14554           0.0                    0.3         14.75  November   \n",
       "14556           0.0                    0.3         37.56  November   \n",
       "14557           0.0                    0.3         10.00  November   \n",
       "14558           0.0                    0.3         22.85  November   \n",
       "\n",
       "       trip duration  hour of day  \n",
       "0                  6           14  \n",
       "1                 26           14  \n",
       "2                  7           14  \n",
       "3                  8           14  \n",
       "4                 17           14  \n",
       "...              ...          ...  \n",
       "14553              5           22  \n",
       "14554              6           22  \n",
       "14556             40           23  \n",
       "14557              8           23  \n",
       "14558             17           23  \n",
       "\n",
       "[9910 rows x 20 columns]"
      ]
     },
     "execution_count": 261,
     "metadata": {},
     "output_type": "execute_result"
    }
   ],
   "source": [
    "\"\"\" add a month feature to each dataframe and merge the dataframes into one called 'total_sample' \"\"\"\n",
    "march_df['month'] = 'March'\n",
    "june_df['month'] = 'June'\n",
    "november_df['month'] = 'November'\n",
    "\n",
    "months = [march_df, june_df, november_df]\n",
    "total_sample = pd.concat(months, ignore_index=True)\n",
    "\n",
    "\"\"\" add a trip duration feature\"\"\"\n",
    "total_sample['tpep_pickup_datetime'] = pd.to_datetime(total_sample['tpep_pickup_datetime'])\n",
    "total_sample['tpep_dropoff_datetime'] = pd.to_datetime(total_sample['tpep_dropoff_datetime'])\n",
    "total_sample['trip duration'] = total_sample['tpep_dropoff_datetime'] - total_sample['tpep_pickup_datetime']\n",
    "\n",
    "\"\"\"add an hour of the day feature\"\"\"\n",
    "total_sample['hour of day'] = total_sample['tpep_pickup_datetime'].dt.hour\n",
    "\n",
    "\"\"\"remove data where trip duration = 0, if any, since that wouldn't make sense\"\"\"\n",
    "total_sample = total_sample[total_sample['trip duration'] != 0 ]\n",
    "\n",
    "\"\"\"remove data where payment type is not a credit card\"\"\"\n",
    "total_sample = total_sample[total_sample['payment_type'] == 1]\n",
    "\n",
    "\"\"\"finally, convert trip duration to an integer hour, so estimator does not complain about datetime types\"\"\"\n",
    "total_sample['trip duration'] = total_sample['trip duration'].dt.total_seconds().div(60).astype(int)\n",
    "total_sample"
   ]
  },
  {
   "cell_type": "markdown",
   "metadata": {},
   "source": [
    "# Finalize data set"
   ]
  },
  {
   "cell_type": "code",
   "execution_count": 278,
   "metadata": {},
   "outputs": [],
   "source": [
    "\"\"\" To send data for training, redundant features are removed\"\"\"\n",
    "\n",
    "X = total_sample.drop(columns=['tpep_pickup_datetime','tpep_dropoff_datetime','total_amount','tip_amount','payment_type'])\n",
    "y = total_sample['tip_amount']"
   ]
  },
  {
   "cell_type": "markdown",
   "metadata": {},
   "source": [
    "## preliminary data assessment:\n",
    "#### A common sense initial guess is to assume the tip amount should depend linearly on fare amount, since many people tip at 10-20%. We see that this assessment is partially true in the plot below. However, it does not explain why some people do not tip at all or the vertical line at ~50 dollar fare. So it is probably best to use a non-linear model. We will go with a random forest\n",
    "#### A regression forest is the best choice for this data for a few reasons:\n",
    "#### a. There is no notion of \"distance\" or scale for the features in this data, e.g. one can't reasonable put \"November\" and \"5 miles\" in the same vector space.\n",
    "#### b. There is a mix of numerical and categorical variables, so using a forest is easy because we can just hot-encode the categorical variables in one preprocessing step.\n",
    "#### c. Forests extend upon decision trees by reducing model variance - decision trees are just too prone to overfitting the sample - unless we use an _enormous_ set of training data"
   ]
  },
  {
   "cell_type": "code",
   "execution_count": 264,
   "metadata": {},
   "outputs": [
    {
     "data": {
      "image/png": "[encoded data removed]",
      "text/plain": [
       "<Figure size 432x288 with 1 Axes>"
      ]
     },
     "metadata": {
      "needs_background": "light"
     },
     "output_type": "display_data"
    }
   ],
   "source": [
    "plt.scatter(X['fare_amount'], y,color='k',s=5)\n",
    "plt.xlabel('Fare Amount',fontsize=14)\n",
    "plt.ylabel('Tip Amount',fontsize=14)\n",
    "plt.xlim(0,60)\n",
    "plt.ylim(0,30)\n",
    "plt.show()"
   ]
  },
  {
   "cell_type": "markdown",
   "metadata": {},
   "source": [
    "# Import machine learning tools"
   ]
  },
  {
   "cell_type": "code",
   "execution_count": 279,
   "metadata": {},
   "outputs": [],
   "source": [
    "from sklearn.model_selection import train_test_split\n",
    "from sklearn.model_selection import cross_val_score\n",
    "from sklearn.model_selection import GridSearchCV\n",
    "\n",
    "from sklearn.preprocessing import OneHotEncoder\n",
    "from sklearn.ensemble import RandomForestRegressor\n",
    "\n",
    "from sklearn.compose import make_column_transformer\n",
    "from sklearn.pipeline import make_pipeline\n",
    "\n",
    "import numpy as np"
   ]
  },
  {
   "cell_type": "markdown",
   "metadata": {},
   "source": [
    "# Model Build"
   ]
  },
  {
   "cell_type": "markdown",
   "metadata": {},
   "source": [
    "## hyperparameters:"
   ]
  },
  {
   "cell_type": "code",
   "execution_count": 280,
   "metadata": {},
   "outputs": [],
   "source": [
    "forest_parameters = {'min_samples_leaf': 10, 'n_estimators':100, 'max_features': 'auto'}\n",
    "TEST_SAMPLE_SIZE = 0.25\n",
    "GROUPS = 5\n",
    "FEATURE_NUM = len(X.columns)"
   ]
  },
  {
   "cell_type": "markdown",
   "metadata": {},
   "source": [
    "## create pipeline option 1: \n",
    "### a. hot encode categorical variables \n",
    "### b. train forest and validate with hold out method"
   ]
  },
  {
   "cell_type": "code",
   "execution_count": 149,
   "metadata": {},
   "outputs": [],
   "source": [
    "\"\"\"define objects in pipeline\"\"\"\n",
    "forest_regressor = RandomForestRegressor(**forest_parameters)\n",
    "\n",
    "column_trans = make_column_transformer((OneHotEncoder(),['store_and_fwd_flag','month']),remainder='passthrough')\n",
    "\n",
    "\"\"\"build pipeline\"\"\"\n",
    "pipe = make_pipeline(column_trans, forest_regressor)"
   ]
  },
  {
   "cell_type": "markdown",
   "metadata": {},
   "source": [
    "## train and validate model : hold-out method"
   ]
  },
  {
   "cell_type": "code",
   "execution_count": 150,
   "metadata": {},
   "outputs": [
    {
     "name": "stdout",
     "output_type": "stream",
     "text": [
      "RMS Error: 1.6757205934330113\n"
     ]
    }
   ],
   "source": [
    "from sklearn import metrics\n",
    "\n",
    "\"\"\"hold out a portion of the data for testing\"\"\"\n",
    "\n",
    "X_train, X_test, y_train, y_test = train_test_split(X, y, test_size = TEST_SAMPLE_SIZE, random_state=0)\n",
    "\n",
    "\"\"\"train model\"\"\"\n",
    "pipe.fit(X_train, y_train)\n",
    "\n",
    "\"\"\"test model and calculate mean squared error\"\"\"\n",
    "y_pred = pipe.predict(X_test)\n",
    "\n",
    "rms_error = np.sqrt(metrics.mean_squared_error(y_test, y_pred))\n",
    "print('RMS Error:', rms_error)"
   ]
  },
  {
   "cell_type": "markdown",
   "metadata": {},
   "source": [
    "## create pipeline option 2: \n",
    "### a. hot encode \n",
    "### b. train forest and sweep hyperparameters in k-fold cross validation"
   ]
  },
  {
   "cell_type": "code",
   "execution_count": 281,
   "metadata": {},
   "outputs": [],
   "source": [
    "\"\"\"define objects in pipeline\"\"\"\n",
    "\n",
    "forest_regressor = RandomForestRegressor(**forest_parameters)\n",
    "\n",
    "param_grid = {\n",
    "    'max_features': np.linspace(1, FEATURE_NUM, num=FEATURE_NUM).astype(int),\n",
    "    #'min_samples_leaf': np.linspace(1,100,num=100).astype(int),\n",
    "}\n",
    "\n",
    "param_search = GridSearchCV(forest_regressor, param_grid, cv=GROUPS, n_jobs=-1, scoring='neg_mean_squared_error')\n",
    "\n",
    "column_trans = make_column_transformer((OneHotEncoder(),['store_and_fwd_flag','month']),remainder='passthrough')\n",
    "\n",
    "\"\"\"build pipeline\"\"\"\n",
    "pipe = make_pipeline(column_trans, param_search)"
   ]
  },
  {
   "cell_type": "markdown",
   "metadata": {},
   "source": [
    "## train and validate model: k-fold cross validation "
   ]
  },
  {
   "cell_type": "code",
   "execution_count": 286,
   "metadata": {},
   "outputs": [
    {
     "name": "stdout",
     "output_type": "stream",
     "text": [
      "parameter sweep + cross validation took 6.070387125015259 seconds\n"
     ]
    }
   ],
   "source": [
    "\"\"\"hold out a portion of the data for testing\"\"\"\n",
    "\n",
    "X_train, X_test, y_train, y_test = train_test_split(X, y, test_size = TEST_SAMPLE_SIZE, random_state=0)\n",
    "\n",
    "\"\"\"train a model for each value in a set of hyperparameters. At each value, perform k-fold cross validation\n",
    "   to obtain a score, averaged over k groups. Model with best score will be saved to be used for testing.\"\"\"\n",
    "\n",
    "start = time.time()\n",
    "pipe.fit(X_train, y_train)\n",
    "end = time.time()\n",
    "print('parameter sweep + cross validation took {} seconds'.format(end-start))"
   ]
  },
  {
   "cell_type": "code",
   "execution_count": 290,
   "metadata": {},
   "outputs": [
    {
     "data": {
      "image/png": "[encoded data removed]",
      "text/plain": [
       "<Figure size 432x288 with 1 Axes>"
      ]
     },
     "metadata": {
      "needs_background": "light"
     },
     "output_type": "display_data"
    }
   ],
   "source": [
    "\"\"\"plot score over all values in parameter sweep\"\"\"\n",
    "import matplotlib.pyplot as plt\n",
    "plt.plot(np.linspace(1, FEATURE_NUM, num=FEATURE_NUM), abs(param_search.cv_results_['mean_test_score']),color='r')\n",
    "plt.ylabel('MSE averaged over {} test folds'.format(GROUPS),fontsize=15)\n",
    "plt.xlabel('features considered at each tree node', fontsize=15)\n",
    "plt.show()"
   ]
  },
  {
   "cell_type": "code",
   "execution_count": 288,
   "metadata": {},
   "outputs": [
    {
     "name": "stdout",
     "output_type": "stream",
     "text": [
      "RMS Error: $1.2368956179078885\n"
     ]
    }
   ],
   "source": [
    "\"\"\"test best model on test set and calculate the predicted tip amounts\"\"\"\n",
    "y_pred = pipe.predict(X_test)\n",
    "rms_error = np.sqrt(metrics.mean_squared_error(y_test, y_pred))\n",
    "print('RMS Error: ${}'.format(rms_error))"
   ]
  },
  {
   "cell_type": "markdown",
   "metadata": {},
   "source": [
    "# Analysis of Results"
   ]
  },
  {
   "cell_type": "code",
   "execution_count": 289,
   "metadata": {},
   "outputs": [
    {
     "data": {
      "text/plain": [
       "Text(0.5, 1.0, 'Feature Importance')"
      ]
     },
     "execution_count": 289,
     "metadata": {},
     "output_type": "execute_result"
    },
    {
     "data": {
      "image/png": "[encoded data removed]",
      "text/plain": [
       "<Figure size 360x720 with 1 Axes>"
      ]
     },
     "metadata": {
      "needs_background": "light"
     },
     "output_type": "display_data"
    }
   ],
   "source": [
    "import seaborn as sns\n",
    "import matplotlib.pyplot as plt\n",
    "\n",
    "variable_importances = param_search.best_estimator_.feature_importances_\n",
    "variable_names = column_trans.get_feature_names()\n",
    "\n",
    "importance_df = pd.DataFrame()\n",
    "importance_df['importance'] = variable_importances\n",
    "importance_df['features'] = variable_names\n",
    "\n",
    "plt.figure(figsize=(5,10))\n",
    "sns.barplot(x='importance',\n",
    "            y='features', \n",
    "            data=importance_df.sort_values('importance',ascending = False),orient='h')\n",
    "plt.title('Feature Importance',fontsize=18)\n"
   ]
  },
  {
   "cell_type": "markdown",
   "metadata": {},
   "source": [
    "# Discussion\n",
    "### As expected, the total fare amount is the most important predictor of tip amount. The most important predictors: fare amount, trip distance/duration, and toll amount all make intuitive sense. What is interesting though is that the ratecodeID bears significant weight as well. Upon further investigation, in the table below, we see that for ratecodeID = 2 (trips to JFK airport), there is a special fare amount of exactly 52 dollars. This special fare amount probably corresponds to the vertical line we saw earlier in the Fare vs. Tip plot. \n",
    "### For whatever reason, the fact that the taxi service charges a special rate for airport trips affects the rider's decision on how to tip. Whereas a linear model would predict a single tip value for trips of 52 dollars, the forest has allowed us to see that the tip value for airport trips is much more variable.\n",
    "### Another result is that the time of year (March, June, November) is not that important, so next time we can ignore that feature\n",
    "### Lastly, note that there is probably some cross-correlation between duration, distance, and fare amount since one could argue that all are roughly proportional to one another. However, it is best to keep all three features because there may be situations where there was a bad driver who got lost or some other caveat"
   ]
  },
  {
   "cell_type": "code",
   "execution_count": 296,
   "metadata": {},
   "outputs": [
    {
     "data": {
      "text/html": [
       "<div>\n",
       "<style scoped>\n",
       "    .dataframe tbody tr th:only-of-type {\n",
       "        vertical-align: middle;\n",
       "    }\n",
       "\n",
       "    .dataframe tbody tr th {\n",
       "        vertical-align: top;\n",
       "    }\n",
       "\n",
       "    .dataframe thead th {\n",
       "        text-align: right;\n",
       "    }\n",
       "</style>\n",
       "<table border=\"1\" class=\"dataframe\">\n",
       "  <thead>\n",
       "    <tr style=\"text-align: right;\">\n",
       "      <th></th>\n",
       "      <th>VendorID</th>\n",
       "      <th>passenger_count</th>\n",
       "      <th>trip_distance</th>\n",
       "      <th>PULocationID</th>\n",
       "      <th>DOLocationID</th>\n",
       "      <th>payment_type</th>\n",
       "      <th>fare_amount</th>\n",
       "      <th>extra</th>\n",
       "      <th>mta_tax</th>\n",
       "      <th>tip_amount</th>\n",
       "      <th>tolls_amount</th>\n",
       "      <th>improvement_surcharge</th>\n",
       "      <th>total_amount</th>\n",
       "      <th>trip duration</th>\n",
       "      <th>hour of day</th>\n",
       "    </tr>\n",
       "    <tr>\n",
       "      <th>RatecodeID</th>\n",
       "      <th></th>\n",
       "      <th></th>\n",
       "      <th></th>\n",
       "      <th></th>\n",
       "      <th></th>\n",
       "      <th></th>\n",
       "      <th></th>\n",
       "      <th></th>\n",
       "      <th></th>\n",
       "      <th></th>\n",
       "      <th></th>\n",
       "      <th></th>\n",
       "      <th></th>\n",
       "      <th></th>\n",
       "      <th></th>\n",
       "    </tr>\n",
       "  </thead>\n",
       "  <tbody>\n",
       "    <tr>\n",
       "      <th>1</th>\n",
       "      <td>1.561578</td>\n",
       "      <td>1.632087</td>\n",
       "      <td>2.681323</td>\n",
       "      <td>163.979543</td>\n",
       "      <td>162.588681</td>\n",
       "      <td>1.0</td>\n",
       "      <td>12.287902</td>\n",
       "      <td>0.325597</td>\n",
       "      <td>0.499792</td>\n",
       "      <td>2.499946</td>\n",
       "      <td>0.244416</td>\n",
       "      <td>0.299938</td>\n",
       "      <td>16.165209</td>\n",
       "      <td>15.916511</td>\n",
       "      <td>13.679751</td>\n",
       "    </tr>\n",
       "    <tr>\n",
       "      <th>2</th>\n",
       "      <td>1.565022</td>\n",
       "      <td>1.672646</td>\n",
       "      <td>17.823004</td>\n",
       "      <td>146.600897</td>\n",
       "      <td>142.847534</td>\n",
       "      <td>1.0</td>\n",
       "      <td>52.000000</td>\n",
       "      <td>0.786996</td>\n",
       "      <td>0.500000</td>\n",
       "      <td>10.495202</td>\n",
       "      <td>4.222735</td>\n",
       "      <td>0.300000</td>\n",
       "      <td>68.313677</td>\n",
       "      <td>48.860987</td>\n",
       "      <td>14.049327</td>\n",
       "    </tr>\n",
       "    <tr>\n",
       "      <th>3</th>\n",
       "      <td>1.473684</td>\n",
       "      <td>1.368421</td>\n",
       "      <td>18.280000</td>\n",
       "      <td>183.631579</td>\n",
       "      <td>42.631579</td>\n",
       "      <td>1.0</td>\n",
       "      <td>71.842105</td>\n",
       "      <td>0.157895</td>\n",
       "      <td>0.000000</td>\n",
       "      <td>14.617895</td>\n",
       "      <td>14.789474</td>\n",
       "      <td>0.300000</td>\n",
       "      <td>101.707368</td>\n",
       "      <td>44.210526</td>\n",
       "      <td>12.157895</td>\n",
       "    </tr>\n",
       "    <tr>\n",
       "      <th>4</th>\n",
       "      <td>2.000000</td>\n",
       "      <td>1.000000</td>\n",
       "      <td>20.258000</td>\n",
       "      <td>120.600000</td>\n",
       "      <td>265.000000</td>\n",
       "      <td>1.0</td>\n",
       "      <td>80.900000</td>\n",
       "      <td>0.400000</td>\n",
       "      <td>0.500000</td>\n",
       "      <td>15.556000</td>\n",
       "      <td>3.652000</td>\n",
       "      <td>0.300000</td>\n",
       "      <td>101.308000</td>\n",
       "      <td>49.400000</td>\n",
       "      <td>12.600000</td>\n",
       "    </tr>\n",
       "    <tr>\n",
       "      <th>5</th>\n",
       "      <td>1.606061</td>\n",
       "      <td>1.515152</td>\n",
       "      <td>2.661818</td>\n",
       "      <td>176.666667</td>\n",
       "      <td>197.181818</td>\n",
       "      <td>1.0</td>\n",
       "      <td>57.224242</td>\n",
       "      <td>0.000000</td>\n",
       "      <td>0.136364</td>\n",
       "      <td>7.835455</td>\n",
       "      <td>2.289091</td>\n",
       "      <td>0.290909</td>\n",
       "      <td>67.776061</td>\n",
       "      <td>7.575758</td>\n",
       "      <td>12.393939</td>\n",
       "    </tr>\n",
       "  </tbody>\n",
       "</table>\n",
       "</div>"
      ],
      "text/plain": [
       "            VendorID  passenger_count  trip_distance  PULocationID  \\\n",
       "RatecodeID                                                           \n",
       "1           1.561578         1.632087       2.681323    163.979543   \n",
       "2           1.565022         1.672646      17.823004    146.600897   \n",
       "3           1.473684         1.368421      18.280000    183.631579   \n",
       "4           2.000000         1.000000      20.258000    120.600000   \n",
       "5           1.606061         1.515152       2.661818    176.666667   \n",
       "\n",
       "            DOLocationID  payment_type  fare_amount     extra   mta_tax  \\\n",
       "RatecodeID                                                                \n",
       "1             162.588681           1.0    12.287902  0.325597  0.499792   \n",
       "2             142.847534           1.0    52.000000  0.786996  0.500000   \n",
       "3              42.631579           1.0    71.842105  0.157895  0.000000   \n",
       "4             265.000000           1.0    80.900000  0.400000  0.500000   \n",
       "5             197.181818           1.0    57.224242  0.000000  0.136364   \n",
       "\n",
       "            tip_amount  tolls_amount  improvement_surcharge  total_amount  \\\n",
       "RatecodeID                                                                  \n",
       "1             2.499946      0.244416               0.299938     16.165209   \n",
       "2            10.495202      4.222735               0.300000     68.313677   \n",
       "3            14.617895     14.789474               0.300000    101.707368   \n",
       "4            15.556000      3.652000               0.300000    101.308000   \n",
       "5             7.835455      2.289091               0.290909     67.776061   \n",
       "\n",
       "            trip duration  hour of day  \n",
       "RatecodeID                              \n",
       "1               15.916511    13.679751  \n",
       "2               48.860987    14.049327  \n",
       "3               44.210526    12.157895  \n",
       "4               49.400000    12.600000  \n",
       "5                7.575758    12.393939  "
      ]
     },
     "execution_count": 296,
     "metadata": {},
     "output_type": "execute_result"
    }
   ],
   "source": [
    "total_sample.groupby(['RatecodeID']).mean()"
   ]
  },
  {
   "cell_type": "markdown",
   "metadata": {},
   "source": [
    "# Improvements"
   ]
  },
  {
   "cell_type": "markdown",
   "metadata": {},
   "source": [
    "### 1. A more extensive hyperparameter search\n",
    "### 2. Features that incorporate behavioral aspects such as driver rating, etc. since the tip amount likely depends a lot on how friendly the driver is\n",
    "### 3. More efficient data pipeline"
   ]
  },
  {
   "cell_type": "markdown",
   "metadata": {},
   "source": [
    "# API use"
   ]
  },
  {
   "cell_type": "markdown",
   "metadata": {},
   "source": [
    "### This model can be wrapped in some Python module that sofware developers at the ride sharing company can import into their code when designing their app. Upon a function call, the predicted tip amount for inputted raw trip data should be returned."
   ]
  },
  {
   "cell_type": "code",
   "execution_count": null,
   "metadata": {},
   "outputs": [],
   "source": []
  }
 ],
 "metadata": {
  "kernelspec": {
   "display_name": "Python 3",
   "language": "python",
   "name": "python3"
  },
  "language_info": {
   "codemirror_mode": {
    "name": "ipython",
    "version": 3
   },
   "file_extension": ".py",
   "mimetype": "text/x-python",
   "name": "python",
   "nbconvert_exporter": "python",
   "pygments_lexer": "ipython3",
   "version": "3.8.5"
  }
 },
 "nbformat": 4,
 "nbformat_minor": 4
}
